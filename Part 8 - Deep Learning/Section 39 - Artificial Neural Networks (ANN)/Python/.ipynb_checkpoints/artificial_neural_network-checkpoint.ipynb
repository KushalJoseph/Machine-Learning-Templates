{
 "cells": [
  {
   "cell_type": "markdown",
   "metadata": {
    "colab_type": "text",
    "id": "lP6JLo1tGNBg"
   },
   "source": [
    "# Artificial Neural Network"
   ]
  },
  {
   "cell_type": "markdown",
   "metadata": {
    "colab_type": "text",
    "id": "gWZyYmS_UE_L"
   },
   "source": [
    "### Importing the libraries"
   ]
  },
  {
   "cell_type": "code",
   "execution_count": 2,
   "metadata": {
    "colab": {
     "base_uri": "https://localhost:8080/",
     "height": 34
    },
    "colab_type": "code",
    "id": "ZaTwK7ojXr2F",
    "outputId": "0b27a96d-d11a-43e8-ab4b-87c1f01896fe"
   },
   "outputs": [],
   "source": [
    "import numpy as np\n",
    "import pandas as pd\n",
    "import tensorflow as tf"
   ]
  },
  {
   "cell_type": "markdown",
   "metadata": {
    "colab_type": "text",
    "id": "1E0Q3aoKUCRX"
   },
   "source": [
    "## Part 1 - Data Preprocessing"
   ]
  },
  {
   "cell_type": "markdown",
   "metadata": {
    "colab_type": "text",
    "id": "cKWAkFVGUU0Z"
   },
   "source": [
    "### Importing the dataset"
   ]
  },
  {
   "cell_type": "code",
   "execution_count": 3,
   "metadata": {
    "colab": {},
    "colab_type": "code",
    "id": "MXUkhkMfU4wq"
   },
   "outputs": [],
   "source": [
    "dataset = pd.read_csv(\"Churn_Modelling.csv\")\n",
    "X = dataset.iloc[:, 3:-1].values # Row number, customer ID and Surname are not useful\n",
    "y = dataset.iloc[:, -1].values"
   ]
  },
  {
   "cell_type": "code",
   "execution_count": 4,
   "metadata": {
    "colab": {
     "base_uri": "https://localhost:8080/",
     "height": 137
    },
    "colab_type": "code",
    "id": "VYP9cQTWbzuI",
    "outputId": "797e7a64-9bac-436a-8c9c-94437e5e7587"
   },
   "outputs": [
    {
     "name": "stdout",
     "output_type": "stream",
     "text": [
      "[[619 'France' 'Female' ... 1 1 101348.88]\n",
      " [608 'Spain' 'Female' ... 0 1 112542.58]\n",
      " [502 'France' 'Female' ... 1 0 113931.57]\n",
      " ...\n",
      " [709 'France' 'Female' ... 0 1 42085.58]\n",
      " [772 'Germany' 'Male' ... 1 0 92888.52]\n",
      " [792 'France' 'Female' ... 1 0 38190.78]]\n"
     ]
    }
   ],
   "source": [
    "print(X)"
   ]
  },
  {
   "cell_type": "code",
   "execution_count": 5,
   "metadata": {
    "colab": {
     "base_uri": "https://localhost:8080/",
     "height": 34
    },
    "colab_type": "code",
    "id": "38vKGE6Nb2RR",
    "outputId": "a815e42a-e0dd-4cb5-ab97-b17ead98fbc3"
   },
   "outputs": [
    {
     "name": "stdout",
     "output_type": "stream",
     "text": [
      "[1 0 1 ... 1 1 0]\n"
     ]
    }
   ],
   "source": [
    "print(y)"
   ]
  },
  {
   "cell_type": "markdown",
   "metadata": {
    "colab_type": "text",
    "id": "N6bQ0UgSU-NJ"
   },
   "source": [
    "### Encoding categorical data"
   ]
  },
  {
   "cell_type": "markdown",
   "metadata": {
    "colab_type": "text",
    "id": "le5MJreAbW52"
   },
   "source": [
    "Label Encoding the \"Gender\" column"
   ]
  },
  {
   "cell_type": "code",
   "execution_count": 6,
   "metadata": {
    "colab": {},
    "colab_type": "code",
    "id": "PxVKWXxLbczC"
   },
   "outputs": [
    {
     "name": "stdout",
     "output_type": "stream",
     "text": [
      "[[619 'France' 0 ... 1 1 101348.88]\n",
      " [608 'Spain' 0 ... 0 1 112542.58]\n",
      " [502 'France' 0 ... 1 0 113931.57]\n",
      " ...\n",
      " [709 'France' 0 ... 0 1 42085.58]\n",
      " [772 'Germany' 1 ... 1 0 92888.52]\n",
      " [792 'France' 0 ... 1 0 38190.78]]\n"
     ]
    }
   ],
   "source": [
    "from sklearn.preprocessing import LabelEncoder\n",
    "le = LabelEncoder()\n",
    "X[:,2] = le.fit_transform(X[:,2]) # All the rows, and only the Gender column for Male or Female\n",
    "print(X)"
   ]
  },
  {
   "cell_type": "markdown",
   "metadata": {
    "colab_type": "text",
    "id": "CUxGZezpbMcb"
   },
   "source": [
    "One Hot Encoding the \"Geography\" column"
   ]
  },
  {
   "cell_type": "code",
   "execution_count": 7,
   "metadata": {
    "colab": {},
    "colab_type": "code",
    "id": "AMXC8-KMVirw"
   },
   "outputs": [],
   "source": [
    "from sklearn.compose import ColumnTransformer\n",
    "from sklearn.preprocessing import OneHotEncoder\n",
    "ct = ColumnTransformer(transformers=[('encoder', OneHotEncoder(), [1])], remainder='passthrough')\n",
    "                                              # Second column, hence [1]. \n",
    "X = np.array(ct.fit_transform(X))"
   ]
  },
  {
   "cell_type": "code",
   "execution_count": 8,
   "metadata": {
    "colab": {
     "base_uri": "https://localhost:8080/",
     "height": 137
    },
    "colab_type": "code",
    "id": "ZcxwEon-b8nV",
    "outputId": "23a98af4-5e33-4b26-c27b-f06e3c5d2baf"
   },
   "outputs": [
    {
     "name": "stdout",
     "output_type": "stream",
     "text": [
      "[[1.0 0.0 0.0 ... 1 1 101348.88]\n",
      " [0.0 0.0 1.0 ... 0 1 112542.58]\n",
      " [1.0 0.0 0.0 ... 1 0 113931.57]\n",
      " ...\n",
      " [1.0 0.0 0.0 ... 0 1 42085.58]\n",
      " [0.0 1.0 0.0 ... 1 0 92888.52]\n",
      " [1.0 0.0 0.0 ... 1 0 38190.78]]\n"
     ]
    }
   ],
   "source": [
    "print(X)"
   ]
  },
  {
   "cell_type": "markdown",
   "metadata": {
    "colab_type": "text",
    "id": "vHol938cW8zd"
   },
   "source": [
    "### Splitting the dataset into the Training set and Test set"
   ]
  },
  {
   "cell_type": "code",
   "execution_count": 9,
   "metadata": {
    "colab": {},
    "colab_type": "code",
    "id": "Z-TDt0Y_XEfc"
   },
   "outputs": [],
   "source": [
    "from sklearn.model_selection import train_test_split\n",
    "X_train, X_test, y_train, y_test = train_test_split(X, y, test_size = 0.2, random_state = 0)"
   ]
  },
  {
   "cell_type": "markdown",
   "metadata": {
    "colab_type": "text",
    "id": "RE_FcHyfV3TQ"
   },
   "source": [
    "### Feature Scaling"
   ]
  },
  {
   "cell_type": "code",
   "execution_count": 10,
   "metadata": {
    "colab": {},
    "colab_type": "code",
    "id": "ViCrE00rV8Sk"
   },
   "outputs": [],
   "source": [
    "from sklearn.preprocessing import StandardScaler\n",
    "sc = StandardScaler()\n",
    "X_train = sc.fit_transform(X_train)\n",
    "X_test = sc.fit_transform(X_test)\n",
    "# SCALE ALL THE FEATURES. Generally recommended for Deep Learning"
   ]
  },
  {
   "cell_type": "markdown",
   "metadata": {
    "colab_type": "text",
    "id": "-zfEzkRVXIwF"
   },
   "source": [
    "## Part 2 - Building the ANN"
   ]
  },
  {
   "cell_type": "markdown",
   "metadata": {
    "colab_type": "text",
    "id": "KvdeScabXtlB"
   },
   "source": [
    "### Initializing the ANN"
   ]
  },
  {
   "cell_type": "code",
   "execution_count": 11,
   "metadata": {
    "colab": {},
    "colab_type": "code",
    "id": "3dtrScHxXQox"
   },
   "outputs": [],
   "source": [
    "ann = tf.keras.models.Sequential()"
   ]
  },
  {
   "cell_type": "markdown",
   "metadata": {
    "colab_type": "text",
    "id": "rP6urV6SX7kS"
   },
   "source": [
    "### Adding the input layer and the first hidden layer"
   ]
  },
  {
   "cell_type": "code",
   "execution_count": 12,
   "metadata": {
    "colab": {},
    "colab_type": "code",
    "id": "bppGycBXYCQr"
   },
   "outputs": [
    {
     "name": "stdout",
     "output_type": "stream",
     "text": [
      "WARNING:tensorflow:From C:\\Users\\hp\\.conda\\envs\\tensorflow\\lib\\site-packages\\tensorflow\\python\\ops\\init_ops.py:1251: calling VarianceScaling.__init__ (from tensorflow.python.ops.init_ops) with dtype is deprecated and will be removed in a future version.\n",
      "Instructions for updating:\n",
      "Call initializer instance with the dtype argument instead of passing it to the constructor\n"
     ]
    }
   ],
   "source": [
    "ann.add(tf.keras.layers.Dense(8, 'relu'))"
   ]
  },
  {
   "cell_type": "markdown",
   "metadata": {
    "colab_type": "text",
    "id": "BELWAc_8YJze"
   },
   "source": [
    "### Adding the second and third hidden layers"
   ]
  },
  {
   "cell_type": "code",
   "execution_count": 14,
   "metadata": {
    "colab": {},
    "colab_type": "code",
    "id": "JneR0u0sYRTd"
   },
   "outputs": [],
   "source": [
    "ann.add(tf.keras.layers.Dense(8, 'relu'))\n",
    "ann.add(tf.keras.layers.Dense(8, 'relu'))\n",
    "ann.add(tf.keras.layers.Dense(8, 'relu'))"
   ]
  },
  {
   "cell_type": "markdown",
   "metadata": {
    "colab_type": "text",
    "id": "OyNEe6RXYcU4"
   },
   "source": [
    "### Adding the output layer"
   ]
  },
  {
   "cell_type": "code",
   "execution_count": 15,
   "metadata": {
    "colab": {},
    "colab_type": "code",
    "id": "Cn3x41RBYfvY"
   },
   "outputs": [],
   "source": [
    "ann.add(tf.keras.layers.Dense(1, 'sigmoid'))"
   ]
  },
  {
   "cell_type": "markdown",
   "metadata": {
    "colab_type": "text",
    "id": "JT4u2S1_Y4WG"
   },
   "source": [
    "## Part 3 - Training the ANN"
   ]
  },
  {
   "cell_type": "markdown",
   "metadata": {
    "colab_type": "text",
    "id": "8GWlJChhY_ZI"
   },
   "source": [
    "### Compiling the ANN"
   ]
  },
  {
   "cell_type": "code",
   "execution_count": 16,
   "metadata": {
    "colab": {},
    "colab_type": "code",
    "id": "fG3RrwDXZEaS"
   },
   "outputs": [],
   "source": [
    "ann.compile(\n",
    "    optimizer = 'adam',\n",
    "    loss = 'binary_crossentropy', # For non binary, categorical_crossentropy\n",
    "    metrics = ['accuracy']\n",
    ")"
   ]
  },
  {
   "cell_type": "markdown",
   "metadata": {
    "colab_type": "text",
    "id": "0QR_G5u7ZLSM"
   },
   "source": [
    "### Training the ANN on the Training set"
   ]
  },
  {
   "cell_type": "code",
   "execution_count": 18,
   "metadata": {
    "colab": {
     "base_uri": "https://localhost:8080/",
     "height": 1000
    },
    "colab_type": "code",
    "id": "nHZ-LKv_ZRb3",
    "outputId": "718cc4b0-b5aa-40f0-9b20-d3d31730a531"
   },
   "outputs": [
    {
     "name": "stdout",
     "output_type": "stream",
     "text": [
      "Epoch 1/50\n",
      "8000/8000 [==============================] - 2s 197us/sample - loss: 0.3280 - acc: 0.8655\n",
      "Epoch 2/50\n",
      "8000/8000 [==============================] - 2s 190us/sample - loss: 0.3291 - acc: 0.8656\n",
      "Epoch 3/50\n",
      "8000/8000 [==============================] - 2s 222us/sample - loss: 0.3279 - acc: 0.8664\n",
      "Epoch 4/50\n",
      "8000/8000 [==============================] - 1s 185us/sample - loss: 0.3281 - acc: 0.8650\n",
      "Epoch 5/50\n",
      "8000/8000 [==============================] - 2s 188us/sample - loss: 0.3274 - acc: 0.8637\n",
      "Epoch 6/50\n",
      "8000/8000 [==============================] - 1s 186us/sample - loss: 0.3264 - acc: 0.8655\n",
      "Epoch 7/50\n",
      "8000/8000 [==============================] - 1s 185us/sample - loss: 0.3275 - acc: 0.8651\n",
      "Epoch 8/50\n",
      "8000/8000 [==============================] - 2s 190us/sample - loss: 0.3270 - acc: 0.8636\n",
      "Epoch 9/50\n",
      "8000/8000 [==============================] - 2s 188us/sample - loss: 0.3266 - acc: 0.8641\n",
      "Epoch 10/50\n",
      "8000/8000 [==============================] - 1s 186us/sample - loss: 0.3277 - acc: 0.8629\n",
      "Epoch 11/50\n",
      "8000/8000 [==============================] - 1s 187us/sample - loss: 0.3265 - acc: 0.8652\n",
      "Epoch 12/50\n",
      "8000/8000 [==============================] - 1s 184us/sample - loss: 0.3264 - acc: 0.8627\n",
      "Epoch 13/50\n",
      "8000/8000 [==============================] - 2s 189us/sample - loss: 0.3264 - acc: 0.8641\n",
      "Epoch 14/50\n",
      "8000/8000 [==============================] - 2s 240us/sample - loss: 0.3249 - acc: 0.8659\n",
      "Epoch 15/50\n",
      "8000/8000 [==============================] - 2s 206us/sample - loss: 0.3270 - acc: 0.8656\n",
      "Epoch 16/50\n",
      "8000/8000 [==============================] - 2s 200us/sample - loss: 0.3262 - acc: 0.8654\n",
      "Epoch 17/50\n",
      "8000/8000 [==============================] - 2s 199us/sample - loss: 0.3246 - acc: 0.8679\n",
      "Epoch 18/50\n",
      "8000/8000 [==============================] - 2s 200us/sample - loss: 0.3255 - acc: 0.8640\n",
      "Epoch 19/50\n",
      "8000/8000 [==============================] - 2s 202us/sample - loss: 0.3248 - acc: 0.8630\n",
      "Epoch 20/50\n",
      "8000/8000 [==============================] - 2s 194us/sample - loss: 0.3257 - acc: 0.8634\n",
      "Epoch 21/50\n",
      "8000/8000 [==============================] - 2s 188us/sample - loss: 0.3244 - acc: 0.8661\n",
      "Epoch 22/50\n",
      "8000/8000 [==============================] - 2s 212us/sample - loss: 0.3238 - acc: 0.8655\n",
      "Epoch 23/50\n",
      "8000/8000 [==============================] - 2s 202us/sample - loss: 0.3250 - acc: 0.8664\n",
      "Epoch 24/50\n",
      "8000/8000 [==============================] - 2s 225us/sample - loss: 0.3231 - acc: 0.8665\n",
      "Epoch 25/50\n",
      "8000/8000 [==============================] - 2s 250us/sample - loss: 0.3234 - acc: 0.8664\n",
      "Epoch 26/50\n",
      "8000/8000 [==============================] - 2s 235us/sample - loss: 0.3249 - acc: 0.8643\n",
      "Epoch 27/50\n",
      "8000/8000 [==============================] - 2s 267us/sample - loss: 0.3239 - acc: 0.8649\n",
      "Epoch 28/50\n",
      "8000/8000 [==============================] - 2s 215us/sample - loss: 0.3231 - acc: 0.8658\n",
      "Epoch 29/50\n",
      "8000/8000 [==============================] - 2s 194us/sample - loss: 0.3228 - acc: 0.8661\n",
      "Epoch 30/50\n",
      "8000/8000 [==============================] - 2s 197us/sample - loss: 0.3240 - acc: 0.8640\n",
      "Epoch 31/50\n",
      "8000/8000 [==============================] - 2s 203us/sample - loss: 0.3231 - acc: 0.8641\n",
      "Epoch 32/50\n",
      "8000/8000 [==============================] - 2s 216us/sample - loss: 0.3233 - acc: 0.8664\n",
      "Epoch 33/50\n",
      "8000/8000 [==============================] - 2s 244us/sample - loss: 0.3239 - acc: 0.8649\n",
      "Epoch 34/50\n",
      "8000/8000 [==============================] - 2s 205us/sample - loss: 0.3233 - acc: 0.8665\n",
      "Epoch 35/50\n",
      "8000/8000 [==============================] - 2s 197us/sample - loss: 0.3233 - acc: 0.8655\n",
      "Epoch 36/50\n",
      "8000/8000 [==============================] - 2s 197us/sample - loss: 0.3220 - acc: 0.8652\n",
      "Epoch 37/50\n",
      "8000/8000 [==============================] - 2s 212us/sample - loss: 0.3217 - acc: 0.8662\n",
      "Epoch 38/50\n",
      "8000/8000 [==============================] - 2s 194us/sample - loss: 0.3210 - acc: 0.8643\n",
      "Epoch 39/50\n",
      "8000/8000 [==============================] - 2s 192us/sample - loss: 0.3219 - acc: 0.8655\n",
      "Epoch 40/50\n",
      "8000/8000 [==============================] - 2s 212us/sample - loss: 0.3219 - acc: 0.8656\n",
      "Epoch 41/50\n",
      "8000/8000 [==============================] - 2s 204us/sample - loss: 0.3223 - acc: 0.8651\n",
      "Epoch 42/50\n",
      "8000/8000 [==============================] - 2s 191us/sample - loss: 0.3213 - acc: 0.8658\n",
      "Epoch 43/50\n",
      "8000/8000 [==============================] - 2s 206us/sample - loss: 0.3216 - acc: 0.8651\n",
      "Epoch 44/50\n",
      "8000/8000 [==============================] - 2s 190us/sample - loss: 0.3213 - acc: 0.8656\n",
      "Epoch 45/50\n",
      "8000/8000 [==============================] - 2s 212us/sample - loss: 0.3218 - acc: 0.8645\n",
      "Epoch 46/50\n",
      "8000/8000 [==============================] - 2s 188us/sample - loss: 0.3224 - acc: 0.8652\n",
      "Epoch 47/50\n",
      "8000/8000 [==============================] - 2s 188us/sample - loss: 0.3197 - acc: 0.8645\n",
      "Epoch 48/50\n",
      "8000/8000 [==============================] - 2s 193us/sample - loss: 0.3206 - acc: 0.8666\n",
      "Epoch 49/50\n",
      "8000/8000 [==============================] - 1s 186us/sample - loss: 0.3201 - acc: 0.8677\n",
      "Epoch 50/50\n",
      "8000/8000 [==============================] - 2s 196us/sample - loss: 0.3207 - acc: 0.8658\n"
     ]
    },
    {
     "data": {
      "text/plain": [
       "<tensorflow.python.keras.callbacks.History at 0x1f6e5678688>"
      ]
     },
     "execution_count": 18,
     "metadata": {},
     "output_type": "execute_result"
    }
   ],
   "source": [
    "ann.fit(X_train, y_train, batch_size = 8, epochs = 50)"
   ]
  },
  {
   "cell_type": "markdown",
   "metadata": {
    "colab_type": "text",
    "id": "tJj5k2MxZga3"
   },
   "source": [
    "## Part 4 - Making the predictions and evaluating the model"
   ]
  },
  {
   "cell_type": "markdown",
   "metadata": {
    "colab_type": "text",
    "id": "84QFoqGYeXHL"
   },
   "source": [
    "### Predicting the result of a single observation"
   ]
  },
  {
   "cell_type": "markdown",
   "metadata": {
    "colab_type": "text",
    "id": "CGRo3eacgDdC"
   },
   "source": [
    "**Homework**\n",
    "\n",
    "Use our ANN model to predict if the customer with the following informations will leave the bank: \n",
    "\n",
    "Geography: France\n",
    "\n",
    "Credit Score: 600\n",
    "\n",
    "Gender: Male\n",
    "\n",
    "Age: 40 years old\n",
    "\n",
    "Tenure: 3 years\n",
    "\n",
    "Balance: \\$ 60000\n",
    "\n",
    "Number of Products: 2\n",
    "\n",
    "Does this customer have a credit card ? Yes\n",
    "\n",
    "Is this customer an Active Member: Yes\n",
    "\n",
    "Estimated Salary: \\$ 50000\n",
    "\n",
    "So, should we say goodbye to that customer ?"
   ]
  },
  {
   "cell_type": "markdown",
   "metadata": {
    "colab_type": "text",
    "id": "ZhU1LTgPg-kH"
   },
   "source": [
    "**Solution**"
   ]
  },
  {
   "cell_type": "code",
   "execution_count": 19,
   "metadata": {
    "colab": {
     "base_uri": "https://localhost:8080/",
     "height": 34
    },
    "colab_type": "code",
    "id": "2d8IoCCkeWGL",
    "outputId": "957f3970-e197-4c3b-a150-7f69dc567f5d"
   },
   "outputs": [
    {
     "name": "stdout",
     "output_type": "stream",
     "text": [
      "[[0.05141883]]\n"
     ]
    }
   ],
   "source": [
    "print(ann.predict(sc.transform([[1.0, 0.0, 0.0, 600, 1, 40, 3, 60000, 2, 1, 1, 50000]])))\n",
    "# Why not fit? Fit basically changes the sc variable. But we only need to transform on the BASIS of the previously setup\n",
    "# sc variable.\n",
    "# PREDICTING MUST BE DONE ON THE SAME SCALE AS THE TRAINING\n"
   ]
  },
  {
   "cell_type": "markdown",
   "metadata": {
    "colab_type": "text",
    "id": "wGjx94g2n7OV"
   },
   "source": [
    "Therefore, our ANN model predicts that this customer stays in the bank!\n",
    "\n",
    "**Important note 1:** Notice that the values of the features were all input in a double pair of square brackets. That's because the \"predict\" method always expects a 2D array as the format of its inputs. And putting our values into a double pair of square brackets makes the input exactly a 2D array.\n",
    "\n",
    "**Important note 2:** Notice also that the \"France\" country was not input as a string in the last column but as \"1, 0, 0\" in the first three columns. That's because of course the predict method expects the one-hot-encoded values of the state, and as we see in the first row of the matrix of features X, \"France\" was encoded as \"1, 0, 0\". And be careful to include these values in the first three columns, because the dummy variables are always created in the first columns."
   ]
  },
  {
   "cell_type": "markdown",
   "metadata": {
    "colab_type": "text",
    "id": "u7yx47jPZt11"
   },
   "source": [
    "### Predicting the Test set results"
   ]
  },
  {
   "cell_type": "code",
   "execution_count": 20,
   "metadata": {
    "colab": {
     "base_uri": "https://localhost:8080/",
     "height": 137
    },
    "colab_type": "code",
    "id": "nIyEeQdRZwgs",
    "outputId": "82330ba8-9bdc-4fd1-d3cf-b6d78ee7c2a3"
   },
   "outputs": [
    {
     "name": "stdout",
     "output_type": "stream",
     "text": [
      "[[0 0]\n",
      " [0 1]\n",
      " [0 0]\n",
      " ...\n",
      " [0 0]\n",
      " [0 0]\n",
      " [0 0]]\n"
     ]
    }
   ],
   "source": [
    "y_pred = (ann.predict(X_test) >= 0.5)\n",
    "print(np.concatenate((y_pred.reshape(len(y_pred),1), y_test.reshape(len(y_test),1)),1))"
   ]
  },
  {
   "cell_type": "markdown",
   "metadata": {
    "colab_type": "text",
    "id": "o0oyfLWoaEGw"
   },
   "source": [
    "### Making the Confusion Matrix"
   ]
  },
  {
   "cell_type": "code",
   "execution_count": 21,
   "metadata": {
    "colab": {
     "base_uri": "https://localhost:8080/",
     "height": 68
    },
    "colab_type": "code",
    "id": "ci6K_r6LaF6P",
    "outputId": "4d854e9e-22d5-432f-f6e5-a102fe3ae0bd"
   },
   "outputs": [
    {
     "name": "stdout",
     "output_type": "stream",
     "text": [
      "[[1523   72]\n",
      " [ 213  192]]\n",
      "0.8575\n"
     ]
    }
   ],
   "source": [
    "from sklearn.metrics import confusion_matrix, accuracy_score\n",
    "print(confusion_matrix(y_test, y_pred))\n",
    "print(accuracy_score(y_test, y_pred))"
   ]
  }
 ],
 "metadata": {
  "colab": {
   "collapsed_sections": [],
   "name": "artificial_neural_network.ipynb",
   "provenance": [],
   "toc_visible": true
  },
  "kernelspec": {
   "display_name": "Python 3",
   "language": "python",
   "name": "python3"
  },
  "language_info": {
   "codemirror_mode": {
    "name": "ipython",
    "version": 3
   },
   "file_extension": ".py",
   "mimetype": "text/x-python",
   "name": "python",
   "nbconvert_exporter": "python",
   "pygments_lexer": "ipython3",
   "version": "3.7.10"
  }
 },
 "nbformat": 4,
 "nbformat_minor": 1
}

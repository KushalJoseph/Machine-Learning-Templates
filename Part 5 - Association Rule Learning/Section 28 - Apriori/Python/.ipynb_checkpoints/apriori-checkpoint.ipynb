{
 "cells": [
  {
   "cell_type": "markdown",
   "metadata": {
    "colab_type": "text",
    "id": "1fziHl7Ar94J"
   },
   "source": [
    "# Apriori"
   ]
  },
  {
   "cell_type": "markdown",
   "metadata": {
    "colab_type": "text",
    "id": "eiNwni1xsEgT"
   },
   "source": [
    "## Importing the libraries"
   ]
  },
  {
   "cell_type": "code",
   "execution_count": 21,
   "metadata": {
    "colab": {
     "base_uri": "https://localhost:8080/",
     "height": 34
    },
    "colab_type": "code",
    "id": "DUF77Qr1vqyM",
    "outputId": "c4c2d702-9e4b-414c-bb3e-caa543b487f0"
   },
   "outputs": [],
   "source": [
    "from apyori import apriori"
   ]
  },
  {
   "cell_type": "code",
   "execution_count": 2,
   "metadata": {
    "colab": {},
    "colab_type": "code",
    "id": "UJfitBClsJlT"
   },
   "outputs": [],
   "source": [
    "import numpy as np\n",
    "import pandas as pd\n",
    "import matplotlib.pyplot as plt"
   ]
  },
  {
   "cell_type": "markdown",
   "metadata": {
    "colab_type": "text",
    "id": "vLt-7XUKsXBd"
   },
   "source": [
    "## Data Preprocessing"
   ]
  },
  {
   "cell_type": "code",
   "execution_count": 19,
   "metadata": {
    "colab": {},
    "colab_type": "code",
    "id": "J_A-UFOAsaDf"
   },
   "outputs": [],
   "source": [
    "dataset = pd.read_csv('Market_Basket_Optimisation.csv', header = None) \n",
    "# Header is None because in this dataset there is not Heading row\n",
    "transactions = []\n",
    "\n",
    "for i in range(0,7501):\n",
    "    cur_list = []\n",
    "    for j in range(0,20):\n",
    "        cur_list.append(str(dataset.values[i, j]))\n",
    "    transactions.append(cur_list)"
   ]
  },
  {
   "cell_type": "markdown",
   "metadata": {
    "colab_type": "text",
    "id": "1wYZdBd5sea_"
   },
   "source": [
    "## Training the Apriori model on the dataset"
   ]
  },
  {
   "cell_type": "code",
   "execution_count": 39,
   "metadata": {
    "colab": {},
    "colab_type": "code",
    "id": "YzIk4vXZsj5i"
   },
   "outputs": [],
   "source": [
    "rules = apriori(transactions = transactions, min_support = 0.002, min_confidence = 0.1, min_lift = 3, min_length = 2, max_length = 2)\n",
    "# min_support: This dataset was for one week. So approx how many times the product was purchased, at min, during the week\n",
    "# If it was purchased less than this time, then it will not form a strong rule\n",
    "# rule of thumb: min_confidence -> 0.8 no? then 0.4 no? then 0.2\n",
    "# min_lift: 3"
   ]
  },
  {
   "cell_type": "code",
   "execution_count": 40,
   "metadata": {},
   "outputs": [
    {
     "name": "stdout",
     "output_type": "stream",
     "text": [
      "0.002\n"
     ]
    }
   ],
   "source": [
    "print(15/7500) # This value goes above in min_support"
   ]
  },
  {
   "cell_type": "markdown",
   "metadata": {
    "colab_type": "text",
    "id": "b176YNwWspiO"
   },
   "source": [
    "## Visualising the results"
   ]
  },
  {
   "cell_type": "markdown",
   "metadata": {
    "colab_type": "text",
    "id": "iO6bF_dImT-E"
   },
   "source": [
    "### Displaying the first results coming directly from the output of the apriori function"
   ]
  },
  {
   "cell_type": "code",
   "execution_count": 41,
   "metadata": {
    "colab": {},
    "colab_type": "code",
    "id": "kvF-sLc6ifhd"
   },
   "outputs": [
    {
     "data": {
      "text/plain": [
       "[RelationRecord(items=frozenset({'barbecue sauce', 'turkey'}), support=0.0025329956005865884, ordered_statistics=[OrderedStatistic(items_base=frozenset({'barbecue sauce'}), items_add=frozenset({'turkey'}), confidence=0.2345679012345679, lift=3.751585985416831)]),\n",
       " RelationRecord(items=frozenset({'brownies', 'cottage cheese'}), support=0.0034662045060658577, ordered_statistics=[OrderedStatistic(items_base=frozenset({'brownies'}), items_add=frozenset({'cottage cheese'}), confidence=0.10276679841897232, lift=3.225329518580382), OrderedStatistic(items_base=frozenset({'cottage cheese'}), items_add=frozenset({'brownies'}), confidence=0.10878661087866107, lift=3.2253295185803816)]),\n",
       " RelationRecord(items=frozenset({'extra dark chocolate', 'chicken'}), support=0.0027996267164378083, ordered_statistics=[OrderedStatistic(items_base=frozenset({'extra dark chocolate'}), items_add=frozenset({'chicken'}), confidence=0.23333333333333334, lift=3.8894074074074076)]),\n",
       " RelationRecord(items=frozenset({'chicken', 'light cream'}), support=0.004532728969470737, ordered_statistics=[OrderedStatistic(items_base=frozenset({'light cream'}), items_add=frozenset({'chicken'}), confidence=0.29059829059829057, lift=4.84395061728395)]),\n",
       " RelationRecord(items=frozenset({'light cream', 'cooking oil'}), support=0.0027996267164378083, ordered_statistics=[OrderedStatistic(items_base=frozenset({'light cream'}), items_add=frozenset({'cooking oil'}), confidence=0.1794871794871795, lift=3.5152306353350737)]),\n",
       " RelationRecord(items=frozenset({'escalope', 'mushroom cream sauce'}), support=0.005732568990801226, ordered_statistics=[OrderedStatistic(items_base=frozenset({'mushroom cream sauce'}), items_add=frozenset({'escalope'}), confidence=0.3006993006993007, lift=3.790832696715049)]),\n",
       " RelationRecord(items=frozenset({'escalope', 'pasta'}), support=0.005865884548726837, ordered_statistics=[OrderedStatistic(items_base=frozenset({'pasta'}), items_add=frozenset({'escalope'}), confidence=0.3728813559322034, lift=4.700811850163794)]),\n",
       " RelationRecord(items=frozenset({'extra dark chocolate', 'olive oil'}), support=0.0026663111585121984, ordered_statistics=[OrderedStatistic(items_base=frozenset({'extra dark chocolate'}), items_add=frozenset({'olive oil'}), confidence=0.22222222222222224, lift=3.3742690058479536)]),\n",
       " RelationRecord(items=frozenset({'french wine', 'fresh tuna'}), support=0.0025329956005865884, ordered_statistics=[OrderedStatistic(items_base=frozenset({'french wine'}), items_add=frozenset({'fresh tuna'}), confidence=0.11242603550295857, lift=5.049746660525103), OrderedStatistic(items_base=frozenset({'fresh tuna'}), items_add=frozenset({'french wine'}), confidence=0.11377245508982035, lift=5.049746660525103)]),\n",
       " RelationRecord(items=frozenset({'tomato juice', 'fresh bread'}), support=0.004266097853619517, ordered_statistics=[OrderedStatistic(items_base=frozenset({'tomato juice'}), items_add=frozenset({'fresh bread'}), confidence=0.14035087719298245, lift=3.2593558198902826)]),\n",
       " RelationRecord(items=frozenset({'fromage blanc', 'fresh tuna'}), support=0.0023996800426609784, ordered_statistics=[OrderedStatistic(items_base=frozenset({'fresh tuna'}), items_add=frozenset({'fromage blanc'}), confidence=0.10778443113772455, lift=7.926382529059528), OrderedStatistic(items_base=frozenset({'fromage blanc'}), items_add=frozenset({'fresh tuna'}), confidence=0.1764705882352941, lift=7.926382529059527)]),\n",
       " RelationRecord(items=frozenset({'honey', 'fresh tuna'}), support=0.003999466737768298, ordered_statistics=[OrderedStatistic(items_base=frozenset({'fresh tuna'}), items_add=frozenset({'honey'}), confidence=0.17964071856287428, lift=3.7850703088205613)]),\n",
       " RelationRecord(items=frozenset({'fromage blanc', 'honey'}), support=0.003332888948140248, ordered_statistics=[OrderedStatistic(items_base=frozenset({'fromage blanc'}), items_add=frozenset({'honey'}), confidence=0.2450980392156863, lift=5.164270764485569)]),\n",
       " RelationRecord(items=frozenset({'gluten free bar', 'pancakes'}), support=0.0021330489268097585, ordered_statistics=[OrderedStatistic(items_base=frozenset({'gluten free bar'}), items_add=frozenset({'pancakes'}), confidence=0.3076923076923077, lift=3.2370266479663394)]),\n",
       " RelationRecord(items=frozenset({'ground beef', 'herb & pepper'}), support=0.015997866951073192, ordered_statistics=[OrderedStatistic(items_base=frozenset({'ground beef'}), items_add=frozenset({'herb & pepper'}), confidence=0.1628222523744912, lift=3.291993841134928), OrderedStatistic(items_base=frozenset({'herb & pepper'}), items_add=frozenset({'ground beef'}), confidence=0.3234501347708895, lift=3.2919938411349285)]),\n",
       " RelationRecord(items=frozenset({'tomato sauce', 'ground beef'}), support=0.005332622317024397, ordered_statistics=[OrderedStatistic(items_base=frozenset({'tomato sauce'}), items_add=frozenset({'ground beef'}), confidence=0.3773584905660377, lift=3.840659481324083)]),\n",
       " RelationRecord(items=frozenset({'rice', 'herb & pepper'}), support=0.0029329422743634183, ordered_statistics=[OrderedStatistic(items_base=frozenset({'rice'}), items_add=frozenset({'herb & pepper'}), confidence=0.15602836879432624, lift=3.1546328688038843)]),\n",
       " RelationRecord(items=frozenset({'tomato sauce', 'herb & pepper'}), support=0.0023996800426609784, ordered_statistics=[OrderedStatistic(items_base=frozenset({'tomato sauce'}), items_add=frozenset({'herb & pepper'}), confidence=0.16981132075471697, lift=3.433301123938361)]),\n",
       " RelationRecord(items=frozenset({'olive oil', 'light cream'}), support=0.003199573390214638, ordered_statistics=[OrderedStatistic(items_base=frozenset({'light cream'}), items_add=frozenset({'olive oil'}), confidence=0.20512820512820515, lift=3.1147098515519573)]),\n",
       " RelationRecord(items=frozenset({'soup', 'light cream'}), support=0.0025329956005865884, ordered_statistics=[OrderedStatistic(items_base=frozenset({'light cream'}), items_add=frozenset({'soup'}), confidence=0.1623931623931624, lift=3.214013485781296)]),\n",
       " RelationRecord(items=frozenset({'mushroom cream sauce', 'pasta'}), support=0.0026663111585121984, ordered_statistics=[OrderedStatistic(items_base=frozenset({'mushroom cream sauce'}), items_add=frozenset({'pasta'}), confidence=0.13986013986013987, lift=8.89060092449923), OrderedStatistic(items_base=frozenset({'pasta'}), items_add=frozenset({'mushroom cream sauce'}), confidence=0.1694915254237288, lift=8.89060092449923)]),\n",
       " RelationRecord(items=frozenset({'tomato sauce', 'olive oil'}), support=0.0027996267164378083, ordered_statistics=[OrderedStatistic(items_base=frozenset({'tomato sauce'}), items_add=frozenset({'olive oil'}), confidence=0.19811320754716982, lift=3.008192651439921)]),\n",
       " RelationRecord(items=frozenset({'whole wheat pasta', 'olive oil'}), support=0.007998933475536596, ordered_statistics=[OrderedStatistic(items_base=frozenset({'olive oil'}), items_add=frozenset({'whole wheat pasta'}), confidence=0.12145748987854252, lift=4.1224100976422955), OrderedStatistic(items_base=frozenset({'whole wheat pasta'}), items_add=frozenset({'olive oil'}), confidence=0.2714932126696833, lift=4.122410097642296)]),\n",
       " RelationRecord(items=frozenset({'whole wheat pasta', 'parmesan cheese'}), support=0.0021330489268097585, ordered_statistics=[OrderedStatistic(items_base=frozenset({'parmesan cheese'}), items_add=frozenset({'whole wheat pasta'}), confidence=0.10738255033557045, lift=3.6446900908014204)]),\n",
       " RelationRecord(items=frozenset({'shrimp', 'pasta'}), support=0.005065991201173177, ordered_statistics=[OrderedStatistic(items_base=frozenset({'pasta'}), items_add=frozenset({'shrimp'}), confidence=0.3220338983050847, lift=4.506672147735896)]),\n",
       " RelationRecord(items=frozenset({'red wine', 'rice'}), support=0.0025329956005865884, ordered_statistics=[OrderedStatistic(items_base=frozenset({'rice'}), items_add=frozenset({'red wine'}), confidence=0.1347517730496454, lift=4.790393600215119)])]"
      ]
     },
     "execution_count": 41,
     "metadata": {},
     "output_type": "execute_result"
    }
   ],
   "source": [
    "results = list(rules)\n",
    "results"
   ]
  },
  {
   "cell_type": "code",
   "execution_count": null,
   "metadata": {
    "colab": {
     "base_uri": "https://localhost:8080/",
     "height": 191
    },
    "colab_type": "code",
    "id": "eAD8Co4_l9IE",
    "outputId": "d8523472-b36f-4020-c6fc-01ee3a0d8a86"
   },
   "outputs": [],
   "source": []
  },
  {
   "cell_type": "markdown",
   "metadata": {
    "colab_type": "text",
    "id": "MFkQP-fcjDBC"
   },
   "source": [
    "### Putting the results well organised into a Pandas DataFrame"
   ]
  },
  {
   "cell_type": "code",
   "execution_count": 42,
   "metadata": {
    "colab": {},
    "colab_type": "code",
    "id": "gyq7Poi0mMUe"
   },
   "outputs": [],
   "source": [
    "def inspect(results):\n",
    "    lhs         = [tuple(result[2][0][0])[0] for result in results]\n",
    "    rhs         = [tuple(result[2][0][1])[0] for result in results]\n",
    "    supports    = [result[1] for result in results]\n",
    "    confidences = [result[2][0][2] for result in results]\n",
    "    lifts       = [result[2][0][3] for result in results]\n",
    "    return list(zip(lhs, rhs, supports, confidences, lifts))\n",
    "resultsinDataFrame = pd.DataFrame(inspect(results), columns = ['Left Hand Side', 'Right Hand Side', 'Support', 'Confidence', 'Lift'])"
   ]
  },
  {
   "cell_type": "markdown",
   "metadata": {
    "colab_type": "text",
    "id": "Pfn-G1eAjjLz"
   },
   "source": [
    "### Displaying the results non sorted"
   ]
  },
  {
   "cell_type": "code",
   "execution_count": 43,
   "metadata": {
    "colab": {
     "base_uri": "https://localhost:8080/",
     "height": 326
    },
    "colab_type": "code",
    "id": "CmDCcs_6ip9V",
    "outputId": "2170915c-075e-455e-b65b-6ae8d1a62166"
   },
   "outputs": [
    {
     "name": "stdout",
     "output_type": "stream",
     "text": [
      "          Left Hand Side    Right Hand Side   Support  Confidence      Lift\n",
      "0         barbecue sauce             turkey  0.002533    0.234568  3.751586\n",
      "1               brownies     cottage cheese  0.003466    0.102767  3.225330\n",
      "2   extra dark chocolate            chicken  0.002800    0.233333  3.889407\n",
      "3            light cream            chicken  0.004533    0.290598  4.843951\n",
      "4            light cream        cooking oil  0.002800    0.179487  3.515231\n",
      "5   mushroom cream sauce           escalope  0.005733    0.300699  3.790833\n",
      "6                  pasta           escalope  0.005866    0.372881  4.700812\n",
      "7   extra dark chocolate          olive oil  0.002666    0.222222  3.374269\n",
      "8            french wine         fresh tuna  0.002533    0.112426  5.049747\n",
      "9           tomato juice        fresh bread  0.004266    0.140351  3.259356\n",
      "10            fresh tuna      fromage blanc  0.002400    0.107784  7.926383\n",
      "11            fresh tuna              honey  0.003999    0.179641  3.785070\n",
      "12         fromage blanc              honey  0.003333    0.245098  5.164271\n",
      "13       gluten free bar           pancakes  0.002133    0.307692  3.237027\n",
      "14           ground beef      herb & pepper  0.015998    0.162822  3.291994\n",
      "15          tomato sauce        ground beef  0.005333    0.377358  3.840659\n",
      "16                  rice      herb & pepper  0.002933    0.156028  3.154633\n",
      "17          tomato sauce      herb & pepper  0.002400    0.169811  3.433301\n",
      "18           light cream          olive oil  0.003200    0.205128  3.114710\n",
      "19           light cream               soup  0.002533    0.162393  3.214013\n",
      "20  mushroom cream sauce              pasta  0.002666    0.139860  8.890601\n",
      "21          tomato sauce          olive oil  0.002800    0.198113  3.008193\n",
      "22             olive oil  whole wheat pasta  0.007999    0.121457  4.122410\n",
      "23       parmesan cheese  whole wheat pasta  0.002133    0.107383  3.644690\n",
      "24                 pasta             shrimp  0.005066    0.322034  4.506672\n",
      "25                  rice           red wine  0.002533    0.134752  4.790394\n"
     ]
    }
   ],
   "source": [
    "print(resultsinDataFrame)"
   ]
  },
  {
   "cell_type": "markdown",
   "metadata": {
    "colab_type": "text",
    "id": "IjrrlYW4jpTR"
   },
   "source": [
    "### Displaying the results sorted by descending lifts"
   ]
  },
  {
   "cell_type": "code",
   "execution_count": 44,
   "metadata": {
    "colab": {
     "base_uri": "https://localhost:8080/",
     "height": 326
    },
    "colab_type": "code",
    "id": "nI7DJXng-nxQ",
    "outputId": "aac84e87-eb2a-4428-cf55-1c16d23ea3ed"
   },
   "outputs": [
    {
     "data": {
      "text/html": [
       "<div>\n",
       "<style scoped>\n",
       "    .dataframe tbody tr th:only-of-type {\n",
       "        vertical-align: middle;\n",
       "    }\n",
       "\n",
       "    .dataframe tbody tr th {\n",
       "        vertical-align: top;\n",
       "    }\n",
       "\n",
       "    .dataframe thead th {\n",
       "        text-align: right;\n",
       "    }\n",
       "</style>\n",
       "<table border=\"1\" class=\"dataframe\">\n",
       "  <thead>\n",
       "    <tr style=\"text-align: right;\">\n",
       "      <th></th>\n",
       "      <th>Left Hand Side</th>\n",
       "      <th>Right Hand Side</th>\n",
       "      <th>Support</th>\n",
       "      <th>Confidence</th>\n",
       "      <th>Lift</th>\n",
       "    </tr>\n",
       "  </thead>\n",
       "  <tbody>\n",
       "    <tr>\n",
       "      <th>20</th>\n",
       "      <td>mushroom cream sauce</td>\n",
       "      <td>pasta</td>\n",
       "      <td>0.002666</td>\n",
       "      <td>0.139860</td>\n",
       "      <td>8.890601</td>\n",
       "    </tr>\n",
       "    <tr>\n",
       "      <th>10</th>\n",
       "      <td>fresh tuna</td>\n",
       "      <td>fromage blanc</td>\n",
       "      <td>0.002400</td>\n",
       "      <td>0.107784</td>\n",
       "      <td>7.926383</td>\n",
       "    </tr>\n",
       "    <tr>\n",
       "      <th>12</th>\n",
       "      <td>fromage blanc</td>\n",
       "      <td>honey</td>\n",
       "      <td>0.003333</td>\n",
       "      <td>0.245098</td>\n",
       "      <td>5.164271</td>\n",
       "    </tr>\n",
       "    <tr>\n",
       "      <th>8</th>\n",
       "      <td>french wine</td>\n",
       "      <td>fresh tuna</td>\n",
       "      <td>0.002533</td>\n",
       "      <td>0.112426</td>\n",
       "      <td>5.049747</td>\n",
       "    </tr>\n",
       "    <tr>\n",
       "      <th>3</th>\n",
       "      <td>light cream</td>\n",
       "      <td>chicken</td>\n",
       "      <td>0.004533</td>\n",
       "      <td>0.290598</td>\n",
       "      <td>4.843951</td>\n",
       "    </tr>\n",
       "    <tr>\n",
       "      <th>25</th>\n",
       "      <td>rice</td>\n",
       "      <td>red wine</td>\n",
       "      <td>0.002533</td>\n",
       "      <td>0.134752</td>\n",
       "      <td>4.790394</td>\n",
       "    </tr>\n",
       "    <tr>\n",
       "      <th>6</th>\n",
       "      <td>pasta</td>\n",
       "      <td>escalope</td>\n",
       "      <td>0.005866</td>\n",
       "      <td>0.372881</td>\n",
       "      <td>4.700812</td>\n",
       "    </tr>\n",
       "    <tr>\n",
       "      <th>24</th>\n",
       "      <td>pasta</td>\n",
       "      <td>shrimp</td>\n",
       "      <td>0.005066</td>\n",
       "      <td>0.322034</td>\n",
       "      <td>4.506672</td>\n",
       "    </tr>\n",
       "    <tr>\n",
       "      <th>22</th>\n",
       "      <td>olive oil</td>\n",
       "      <td>whole wheat pasta</td>\n",
       "      <td>0.007999</td>\n",
       "      <td>0.121457</td>\n",
       "      <td>4.122410</td>\n",
       "    </tr>\n",
       "    <tr>\n",
       "      <th>2</th>\n",
       "      <td>extra dark chocolate</td>\n",
       "      <td>chicken</td>\n",
       "      <td>0.002800</td>\n",
       "      <td>0.233333</td>\n",
       "      <td>3.889407</td>\n",
       "    </tr>\n",
       "  </tbody>\n",
       "</table>\n",
       "</div>"
      ],
      "text/plain": [
       "          Left Hand Side    Right Hand Side   Support  Confidence      Lift\n",
       "20  mushroom cream sauce              pasta  0.002666    0.139860  8.890601\n",
       "10            fresh tuna      fromage blanc  0.002400    0.107784  7.926383\n",
       "12         fromage blanc              honey  0.003333    0.245098  5.164271\n",
       "8            french wine         fresh tuna  0.002533    0.112426  5.049747\n",
       "3            light cream            chicken  0.004533    0.290598  4.843951\n",
       "25                  rice           red wine  0.002533    0.134752  4.790394\n",
       "6                  pasta           escalope  0.005866    0.372881  4.700812\n",
       "24                 pasta             shrimp  0.005066    0.322034  4.506672\n",
       "22             olive oil  whole wheat pasta  0.007999    0.121457  4.122410\n",
       "2   extra dark chocolate            chicken  0.002800    0.233333  3.889407"
      ]
     },
     "execution_count": 44,
     "metadata": {},
     "output_type": "execute_result"
    }
   ],
   "source": [
    "resultsinDataFrame.nlargest(10, \"Lift\")"
   ]
  }
 ],
 "metadata": {
  "colab": {
   "collapsed_sections": [],
   "name": "apriori.ipynb",
   "provenance": [],
   "toc_visible": true
  },
  "kernelspec": {
   "display_name": "Python 3",
   "language": "python",
   "name": "python3"
  },
  "language_info": {
   "codemirror_mode": {
    "name": "ipython",
    "version": 3
   },
   "file_extension": ".py",
   "mimetype": "text/x-python",
   "name": "python",
   "nbconvert_exporter": "python",
   "pygments_lexer": "ipython3",
   "version": "3.8.5"
  }
 },
 "nbformat": 4,
 "nbformat_minor": 1
}
